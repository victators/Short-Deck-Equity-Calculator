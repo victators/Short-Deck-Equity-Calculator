{
 "cells": [
  {
   "cell_type": "code",
   "execution_count": 1,
   "metadata": {},
   "outputs": [],
   "source": [
    "# High level design\n",
    "# - User inputs multiple hands and a partial board, gets back probabilities from MC \n",
    "# - Checks for duplicate cards\n",
    "# - Encode cards and suits into mod 36\n",
    "# - Searches for hand ranks, no pruning, returns strength\n",
    "# - Comparator for hands within same rank\n",
    "# - Simulation over trials to get probabilities\n",
    "import random\n",
    "from timeit import default_timer as timer\n",
    "import numpy as np\n",
    "import itertools as it"
   ]
  },
  {
   "cell_type": "code",
   "execution_count": 2,
   "metadata": {},
   "outputs": [],
   "source": [
    "# build global vars\n",
    "suits = [\"c\", \"d\", \"h\", \"s\"]\n",
    "cards = [str(x) for x in range(6, 15)]\n",
    "cards = [x.replace('10', 'T').replace('11', 'J').replace('12', 'Q').replace('13', 'K').replace('14', 'A') for x in cards]\n",
    "deck = [card + suit for card in cards for suit in suits]\n",
    "value_map = {deck[i]: i for i in range(len(deck))}\n",
    "card_map = {v: k for k, v in value_map.items()}"
   ]
  },
  {
   "cell_type": "code",
   "execution_count": 3,
   "metadata": {},
   "outputs": [],
   "source": [
    "def check_dumbassery(hands, board):\n",
    "    in_play = [card for hand in hands for card in hand] + board\n",
    "    unique = set(in_play)\n",
    "    if (len(unique) < len(in_play)):\n",
    "        print(\"duplicate cards\")\n",
    "        print(set([card for card in in_play if in_play.count(card) > 1]))"
   ]
  },
  {
   "cell_type": "code",
   "execution_count": 4,
   "metadata": {},
   "outputs": [],
   "source": [
    "# 0 - club, 1 - diamond, 2 - heart, 3 - spade\n",
    "def get_suit(value):\n",
    "    return value%4\n",
    "\n",
    "# 0 - 6 up to 8 - Ace\n",
    "def get_face(value):\n",
    "    return value//4"
   ]
  },
  {
   "cell_type": "code",
   "execution_count": 5,
   "metadata": {},
   "outputs": [],
   "source": [
    "def evaluate_hands(hands, board, debug=False):\n",
    "    mx_rank = 0\n",
    "    mx_hands = []\n",
    "    for hand in hands:\n",
    "        new = evaluate_combo(hand+board)\n",
    "        if (new > mx_rank):\n",
    "            mx_rank = new\n",
    "            mx_hands = [hand]\n",
    "        elif (new == mx_rank):\n",
    "            mx_hands.append(hand)\n",
    "    if (debug):\n",
    "        print(hand_rank[mx_rank])\n",
    "    if (len(mx_hands) == 1):\n",
    "        return mx_hands[0]\n",
    "    else:\n",
    "        return compare_same_rank(hands, board, mx_rank)"
   ]
  },
  {
   "cell_type": "code",
   "execution_count": 6,
   "metadata": {},
   "outputs": [],
   "source": [
    "def quantify(res):\n",
    "    if (isinstance(res, int)):\n",
    "        return res\n",
    "    elif res is None:\n",
    "        return -1\n",
    "    else:\n",
    "        return int(''.join(map(str, res)))"
   ]
  },
  {
   "cell_type": "code",
   "execution_count": 7,
   "metadata": {},
   "outputs": [],
   "source": [
    "def compare_same_rank(hands, board, rank):\n",
    "    f = [quantify(get_hand[rank](hands[i]+board)) for i in range(len(hands))]\n",
    "    res = [hands[i] for i in range(len(f)) if f[i] == max(f)]\n",
    "    if (len(res) == 1):\n",
    "        return res[0]\n",
    "    else:\n",
    "        return res"
   ]
  },
  {
   "cell_type": "code",
   "execution_count": 8,
   "metadata": {},
   "outputs": [],
   "source": [
    "# straight flush - 8\n",
    "# quads - 7\n",
    "# flush - 6\n",
    "# full house - 5\n",
    "# straight - 4\n",
    "# trips - 3\n",
    "# two pair - 2\n",
    "# pair - 1\n",
    "# high card - 0\n",
    "def evaluate_combo(combo):\n",
    "    res = get_straight_flush(combo)\n",
    "    if res > 0:\n",
    "        return 8 \n",
    "    res = get_quads(combo)\n",
    "    if res is not None:\n",
    "        return 7\n",
    "    res = get_flush(combo)\n",
    "    if res is not None:\n",
    "        return 6\n",
    "    res = get_full_house(combo)\n",
    "    if res is not None:\n",
    "        return 5\n",
    "    res = get_straight(combo)\n",
    "    if res > 0:\n",
    "        return 4\n",
    "    res = get_trips(combo)\n",
    "    if res is not None:\n",
    "        return 3\n",
    "    res = get_two_pair(combo)\n",
    "    if res is not None:\n",
    "        return 2\n",
    "    res = get_pair(combo)\n",
    "    if res is not None:\n",
    "        return 1\n",
    "    return 0"
   ]
  },
  {
   "cell_type": "code",
   "execution_count": 9,
   "metadata": {},
   "outputs": [],
   "source": [
    "def get_straight_flush(combo): # 6 rankings of straight flushes \n",
    "    s = is_flush(combo)\n",
    "    if s is not None:\n",
    "        h = [x for x in combo if get_suit(value_map[x]) == s]\n",
    "        res = get_straight(h)\n",
    "        if res > 0:\n",
    "            return res\n",
    "    return -1"
   ]
  },
  {
   "cell_type": "code",
   "execution_count": 10,
   "metadata": {},
   "outputs": [],
   "source": [
    "def get_quads(combo):\n",
    "    f = [get_face(value_map[x]) for x in combo]\n",
    "    d = {i:f.count(i) for i in set(f)}\n",
    "    h = max(d.keys(), key=(lambda key: d[key])) # can only be one set of quads\n",
    "    if (d[h] < 4):\n",
    "        return None\n",
    "    rem = [x for x in f if x != h]\n",
    "    mx = 0 \n",
    "    for card in rem:\n",
    "        if (card > mx):\n",
    "            mx = card\n",
    "    res = [h]\n",
    "    res.append(mx)\n",
    "    return res"
   ]
  },
  {
   "cell_type": "code",
   "execution_count": 11,
   "metadata": {},
   "outputs": [],
   "source": [
    "def get_flush(combo): # assumes straight flush already filtered \n",
    "    s = is_flush(combo)\n",
    "    if s is not None:\n",
    "        fc = [get_face(value_map[x]) for x in combo if get_suit(value_map[x]) == s]\n",
    "        fc.sort(reverse=True)\n",
    "        return fc[0:5]\n",
    "    else:\n",
    "        return None"
   ]
  },
  {
   "cell_type": "code",
   "execution_count": 12,
   "metadata": {},
   "outputs": [],
   "source": [
    "def is_flush(combo):\n",
    "    s = [get_suit(value_map[x]) for x in combo]\n",
    "    l = [s.count(x) for x in range(4)]\n",
    "    if (len([x for x in l if x >= 5]) == 1):\n",
    "        suit = l.index(max(l))\n",
    "        return suit\n",
    "    return None"
   ]
  },
  {
   "cell_type": "code",
   "execution_count": 13,
   "metadata": {},
   "outputs": [],
   "source": [
    "def get_full_house(combo): # assumes quads already filtered\n",
    "    f = [get_face(value_map[x]) for x in combo]\n",
    "    d = {i:f.count(i) for i in set(f)}\n",
    "    h = max(d.keys(), key=(lambda key: d[key])) \n",
    "    h2 = max(d.keys(), key=(lambda key: d[key] if key != h else -1))\n",
    "    h3 = max(d.keys(), key=(lambda key: d[key] if (key != h) & (key != h2) else -1))\n",
    "    if (d[h] != 3):\n",
    "        return None\n",
    "    else:\n",
    "        if (d[h2] < 2):\n",
    "            return None\n",
    "        elif (d[h2] == 2):\n",
    "            if (d[h3] == 2):\n",
    "                if (h2 < h3):\n",
    "                    return [h, h3]\n",
    "                else:\n",
    "                    return [h, h2]\n",
    "            else:\n",
    "                return [h, h2]\n",
    "        elif (d[h2] == 3): # can only be 2 sets of trips     \n",
    "            if (h < h2):\n",
    "                return [h2, h]\n",
    "            else:\n",
    "                return [h, h2]\n",
    "        else:\n",
    "            print(\"error\")"
   ]
  },
  {
   "cell_type": "code",
   "execution_count": 14,
   "metadata": {},
   "outputs": [],
   "source": [
    "def get_straight(combo):\n",
    "    f = [get_face(value_map[x]) for x in combo]\n",
    "    if 4 in f:\n",
    "        if 5 in f:\n",
    "            if 6 in f:\n",
    "                if 7 in f:\n",
    "                    if 8 in f:\n",
    "                        return 6\n",
    "                    elif 3 in f:\n",
    "                        return 5\n",
    "                elif 3 in f:\n",
    "                    if 2 in f:\n",
    "                        return 4\n",
    "            elif 3 in f:\n",
    "                if 2 in f:\n",
    "                    if 1 in f:\n",
    "                        return 3\n",
    "        elif 3 in f:\n",
    "            if 2 in f:\n",
    "                if 1 in f:\n",
    "                    if 0 in f:\n",
    "                        return 2\n",
    "    elif 3 in f:\n",
    "        if 2 in f:\n",
    "            if 1 in f:\n",
    "                if 0 in f:\n",
    "                    if 8 in f:\n",
    "                        return 1\n",
    "    return 0"
   ]
  },
  {
   "cell_type": "code",
   "execution_count": 15,
   "metadata": {},
   "outputs": [],
   "source": [
    "def get_trips(combo): # assumes quads, full house already filtered\n",
    "    f = [get_face(value_map[x]) for x in combo]\n",
    "    d = {i:f.count(i) for i in set(f)}\n",
    "    h = max(d.keys(), key=(lambda key: d[key])) \n",
    "    if (d[h] != 3):\n",
    "        return None\n",
    "    rem = [x for x in f if x != h]\n",
    "    rem.sort(reverse=True)\n",
    "    res = [h] + rem[0:2]\n",
    "    return res"
   ]
  },
  {
   "cell_type": "code",
   "execution_count": 16,
   "metadata": {},
   "outputs": [],
   "source": [
    "def get_two_pair(combo): # assumes trips and above filtered\n",
    "    f = [get_face(value_map[x]) for x in combo]\n",
    "    d = {i:f.count(i) for i in set(f)}\n",
    "    h = max(d.keys(), key=(lambda key: d[key])) \n",
    "    h2 = max(d.keys(), key=(lambda key: d[key] if key != h else -1))\n",
    "    h3 = max(d.keys(), key=(lambda key: d[key] if ((key != h) & (key != h2)) else -1))\n",
    "    if (d[h] != 2):\n",
    "        return None\n",
    "    else:\n",
    "        if (d[h2] != 2):\n",
    "            return None\n",
    "        else:\n",
    "            if (d[h3] == 2):\n",
    "                l = [h, h2, h3]\n",
    "                l.sort(reverse=True)\n",
    "                rem = max([x for x in f if x not in l[0:2]])\n",
    "                return l[0:2] + [rem]\n",
    "            else:\n",
    "                l = [h, h2]\n",
    "                l.sort(reverse=True)\n",
    "                rem = max([x for x in f if x not in l])\n",
    "                return l + [rem]"
   ]
  },
  {
   "cell_type": "code",
   "execution_count": 17,
   "metadata": {},
   "outputs": [],
   "source": [
    "def get_pair(combo): \n",
    "    f = [get_face(value_map[x]) for x in combo]\n",
    "    d = {i:f.count(i) for i in set(f)}\n",
    "    h = max(d.keys(), key=(lambda key: d[key]))\n",
    "    if (d[h] != 2):\n",
    "        return None\n",
    "    rem = [x for x in f if x != h]\n",
    "    rem.sort(reverse=True)\n",
    "    res = [h] + rem[0:3]\n",
    "    return res"
   ]
  },
  {
   "cell_type": "code",
   "execution_count": 18,
   "metadata": {},
   "outputs": [],
   "source": [
    "def get_high_card(combo):\n",
    "    f = [get_face(value_map[x]) for x in combo]\n",
    "    f.sort(reverse=True)\n",
    "    return f[0:5]"
   ]
  },
  {
   "cell_type": "code",
   "execution_count": 19,
   "metadata": {},
   "outputs": [
    {
     "name": "stdout",
     "output_type": "stream",
     "text": [
      "1\n",
      "[8, 3, 2, 1, 0]\n",
      "[2, 8]\n",
      "[2, 3]\n",
      "[8, 2]\n",
      "[3, 4]\n",
      "2\n",
      "6\n",
      "[3, 6, 2]\n",
      "[8, 7, 4]\n",
      "[8, 3, 7]\n",
      "[8, 3, 7]\n",
      "[2, 8, 7, 6]\n",
      "[3, 7, 5, 2]\n",
      "[8, 7, 6, 5, 2]\n"
     ]
    }
   ],
   "source": [
    "# test cases\n",
    "p0 = [\"As\", \"8s\"]\n",
    "p1 = [\"9s\", \"9c\"]\n",
    "board = [\"9s\", \"Qc\", \"Jc\", \"7s\", \"6s\"]\n",
    "print(get_straight_flush(p0 + board))\n",
    "print(get_flush(p0+board))\n",
    "board = [\"8c\", \"9c\", \"8d\", \"8s\", \"Td\"]\n",
    "print(get_quads(p0 + board))\n",
    "board = [\"8c\", \"9c\", \"8d\", \"9s\", \"Td\"]\n",
    "print(get_full_house(p0+board))\n",
    "board = [\"8c\", \"Ac\", \"8d\", \"Ad\", \"Td\"]\n",
    "print(get_full_house(p0+board))\n",
    "board = [\"9d\", \"8c\", \"8d\", \"Ts\", \"Tc\"]\n",
    "print(get_full_house(p1+board))\n",
    "board = [\"6c\", \"Kd\", \"7c\", \"9s\", \"Td\"]\n",
    "print(get_straight(p0+board))\n",
    "board = [\"Qc\", \"Kd\", \"Jc\", \"9s\", \"Td\"]\n",
    "print(get_straight(p0+board))\n",
    "board = [\"9d\", \"Qs\", \"8c\", \"6d\", \"7s\"]\n",
    "print(get_trips(p1+board))\n",
    "board = [\"Ad\", \"Kd\", \"Ts\", \"Ac\", \"6d\"]\n",
    "print(get_trips(p0+board))\n",
    "board = [\"Ac\", \"8c\", \"8d\", \"As\", \"Kd\"]\n",
    "print(get_two_pair(p1+board))\n",
    "board = [\"Ac\", \"8c\", \"9d\", \"9s\", \"Kd\"]\n",
    "print(get_two_pair(p0+board))\n",
    "board = [\"8d\", \"Ks\", \"Jd\", \"Qh\", \"9c\"]\n",
    "print(get_pair(p0+board))\n",
    "board = [\"Ks\", \"Jd\", \"7h\", \"6d\", \"8s\"]\n",
    "print(get_pair(p1+board))\n",
    "board = [\"Ks\", \"Qd\", \"Js\", \"7d\", \"6s\"]\n",
    "print(get_high_card(p0+board))"
   ]
  },
  {
   "cell_type": "code",
   "execution_count": 20,
   "metadata": {},
   "outputs": [],
   "source": [
    "get_hand = {8:get_straight_flush, \n",
    "            7:get_quads,\n",
    "            6:get_flush,\n",
    "            5:get_full_house,\n",
    "            4:get_straight,\n",
    "            3:get_trips,\n",
    "            2:get_two_pair,\n",
    "            1:get_pair,\n",
    "            0:get_high_card}"
   ]
  },
  {
   "cell_type": "code",
   "execution_count": 21,
   "metadata": {},
   "outputs": [],
   "source": [
    "hand_rank = {8:\"straight flush\", \n",
    "             7:\"quads\",\n",
    "             6:\"flush\",\n",
    "             5:\"full house\",\n",
    "             4:\"straight\",\n",
    "             3:\"trips\",\n",
    "             2:\"two pair\",\n",
    "             1:\"pair\",\n",
    "             0:\"high card\"}"
   ]
  },
  {
   "cell_type": "code",
   "execution_count": 22,
   "metadata": {},
   "outputs": [],
   "source": [
    "def simulate(hands, board, trials=10000, debug=False):\n",
    "    cards = [card for hand in hands for card in hand] + board\n",
    "    revealed = [value_map[card] for card in cards]\n",
    "    deck = [x for x in range(36) if x not in revealed]\n",
    "    tallies = dict.fromkeys([tuple(hand) for hand in hands], 0)\n",
    "    for i in range(trials):\n",
    "        draw = random.sample(deck, 5-len(board))\n",
    "        runout = [card_map[card] for card in draw]\n",
    "        full_board = board + runout\n",
    "        res = evaluate_hands(hands, full_board, debug)\n",
    "        if (debug):\n",
    "            print(full_board, res)\n",
    "        if(any(isinstance(i, list) for i in res)):\n",
    "            inc = 1/len(res)\n",
    "            for hand in res:\n",
    "                tallies[tuple(hand)] = tallies[tuple(hand)] + inc\n",
    "        else:\n",
    "            tallies[tuple(res)] = tallies[tuple(res)] + 1\n",
    "    for hand in hands:\n",
    "        tallies[tuple(hand)] = tallies[tuple(hand)]/trials\n",
    "\n",
    "    for k, v in tallies.items():\n",
    "        tallies[k] = round(v, 3)\n",
    "\n",
    "    print(tallies)"
   ]
  },
  {
   "cell_type": "code",
   "execution_count": 28,
   "metadata": {},
   "outputs": [],
   "source": [
    "# hole cards\n",
    "p1 = [\"As\",\"Th\"] \n",
    "p2 = [\"Tc\", \"8d\"]\n",
    "p3 = [\"Ad\", \"Ah\"]\n",
    "hands = [p1, p2, p3]\n",
    "board = [\"6d\", \"9h\", \"Ac\"]\n",
    "check_dumbassery(hands, board)"
   ]
  },
  {
   "cell_type": "code",
   "execution_count": 29,
   "metadata": {},
   "outputs": [
    {
     "name": "stdout",
     "output_type": "stream",
     "text": [
      "{('As', 'Th'): 0.019, ('Tc', '8d'): 0.22, ('Ad', 'Ah'): 0.761}\n",
      "2.4822385445577737\n"
     ]
    }
   ],
   "source": [
    "start = timer()\n",
    "simulate(hands, board, trials=10000, debug=False)\n",
    "end = timer()\n",
    "print(end-start)"
   ]
  },
  {
   "cell_type": "code",
   "execution_count": 25,
   "metadata": {},
   "outputs": [
    {
     "name": "stdout",
     "output_type": "stream",
     "text": [
      "straight\n"
     ]
    },
    {
     "data": {
      "text/plain": [
       "[['As', 'Th'], ['Ad', 'Ah']]"
      ]
     },
     "execution_count": 25,
     "metadata": {},
     "output_type": "execute_result"
    }
   ],
   "source": [
    "board = [\"Qs\", \"Ks\", \"Js\", \"Kd\", \"Th\"]\n",
    "evaluate_hands(hands, board, debug=True)"
   ]
  },
  {
   "cell_type": "code",
   "execution_count": 26,
   "metadata": {},
   "outputs": [],
   "source": [
    "# create numerical range table, + -> suited, -> offsuit\n",
    "primes = [2, 3, 5, 7, 11, 13, 17, 19, 23]\n",
    "face_ranks = list(reversed(primes))\n",
    "cards_rev = list(reversed(cards))\n",
    "face_map = dict(zip(cards_rev, face_ranks))\n",
    "hands_map = {}\n",
    "for x in it.product(cards_rev, cards_rev):\n",
    "    if (x[0] == x[1]):\n",
    "        hands_map[x[0]+x[1]] = -face_map[x[0]]**2\n",
    "    if (face_map[x[0]] > face_map[x[1]]):\n",
    "        hands_map[x[0]+x[1]+\"s\"] = face_map[x[0]]*face_map[x[1]]\n",
    "        hands_map[x[0]+x[1]+\"o\"] = -face_map[x[0]]*face_map[x[1]]\n",
    "to_hands_map = {v: k for k, v in hands_map.items()}\n",
    "value_table = np.multiply(np.outer(face_ranks, face_ranks), np.tril(-2*np.ones((9, 9)), 0)+1)\n",
    "hands_table = [[to_hands_map[x] for x in row] for row in value_table.astype(int).tolist()]"
   ]
  },
  {
   "cell_type": "code",
   "execution_count": 27,
   "metadata": {
    "scrolled": true
   },
   "outputs": [
    {
     "data": {
      "text/plain": [
       "[['AA', 'AKs', 'AQs', 'AJs', 'ATs', 'A9s', 'A8s', 'A7s', 'A6s'],\n",
       " ['AKo', 'KK', 'KQs', 'KJs', 'KTs', 'K9s', 'K8s', 'K7s', 'K6s'],\n",
       " ['AQo', 'KQo', 'QQ', 'QJs', 'QTs', 'Q9s', 'Q8s', 'Q7s', 'Q6s'],\n",
       " ['AJo', 'KJo', 'QJo', 'JJ', 'JTs', 'J9s', 'J8s', 'J7s', 'J6s'],\n",
       " ['ATo', 'KTo', 'QTo', 'JTo', 'TT', 'T9s', 'T8s', 'T7s', 'T6s'],\n",
       " ['A9o', 'K9o', 'Q9o', 'J9o', 'T9o', '99', '98s', '97s', '96s'],\n",
       " ['A8o', 'K8o', 'Q8o', 'J8o', 'T8o', '98o', '88', '87s', '86s'],\n",
       " ['A7o', 'K7o', 'Q7o', 'J7o', 'T7o', '97o', '87o', '77', '76s'],\n",
       " ['A6o', 'K6o', 'Q6o', 'J6o', 'T6o', '96o', '86o', '76o', '66']]"
      ]
     },
     "execution_count": 27,
     "metadata": {},
     "output_type": "execute_result"
    }
   ],
   "source": [
    "hands_table"
   ]
  },
  {
   "cell_type": "code",
   "execution_count": null,
   "metadata": {},
   "outputs": [],
   "source": []
  },
  {
   "cell_type": "code",
   "execution_count": null,
   "metadata": {},
   "outputs": [],
   "source": []
  }
 ],
 "metadata": {
  "kernelspec": {
   "display_name": "Python 3",
   "language": "python",
   "name": "python3"
  },
  "language_info": {
   "codemirror_mode": {
    "name": "ipython",
    "version": 3
   },
   "file_extension": ".py",
   "mimetype": "text/x-python",
   "name": "python",
   "nbconvert_exporter": "python",
   "pygments_lexer": "ipython3",
   "version": "3.6.4"
  }
 },
 "nbformat": 4,
 "nbformat_minor": 2
}
